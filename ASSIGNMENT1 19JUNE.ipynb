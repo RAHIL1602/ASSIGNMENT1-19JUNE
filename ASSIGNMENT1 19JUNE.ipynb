{
 "cells": [
  {
   "cell_type": "markdown",
   "id": "59ea8fc5",
   "metadata": {},
   "source": [
    "a"
   ]
  },
  {
   "cell_type": "code",
   "execution_count": 7,
   "id": "b0b1145f",
   "metadata": {},
   "outputs": [],
   "source": [
    "a=\"rahil is a good boy\""
   ]
  },
  {
   "cell_type": "code",
   "execution_count": 8,
   "id": "568a6ddb",
   "metadata": {},
   "outputs": [
    {
     "data": {
      "text/plain": [
       "['rahil', 'is', 'a', 'good', 'boy']"
      ]
     },
     "execution_count": 8,
     "metadata": {},
     "output_type": "execute_result"
    }
   ],
   "source": [
    "#split()\n",
    "a.split()"
   ]
  },
  {
   "cell_type": "code",
   "execution_count": 20,
   "id": "4684a4e0",
   "metadata": {},
   "outputs": [
    {
     "data": {
      "text/plain": [
       "'RAHIL IS A GOOD BOY'"
      ]
     },
     "execution_count": 20,
     "metadata": {},
     "output_type": "execute_result"
    }
   ],
   "source": [
    "#upper()\n",
    "a.upper()"
   ]
  },
  {
   "cell_type": "code",
   "execution_count": 21,
   "id": "fa615c7c",
   "metadata": {},
   "outputs": [
    {
     "data": {
      "text/plain": [
       "'rahil is a good boy'"
      ]
     },
     "execution_count": 21,
     "metadata": {},
     "output_type": "execute_result"
    }
   ],
   "source": [
    "#lower\n",
    "a.lower()"
   ]
  },
  {
   "cell_type": "code",
   "execution_count": 23,
   "id": "187df2cf",
   "metadata": {},
   "outputs": [
    {
     "data": {
      "text/plain": [
       "'Rahil is a good boy'"
      ]
     },
     "execution_count": 23,
     "metadata": {},
     "output_type": "execute_result"
    }
   ],
   "source": [
    "#capitalized\n",
    "a.capitalize()"
   ]
  },
  {
   "cell_type": "code",
   "execution_count": 25,
   "id": "fbf36600",
   "metadata": {},
   "outputs": [
    {
     "data": {
      "text/plain": [
       "1"
      ]
     },
     "execution_count": 25,
     "metadata": {},
     "output_type": "execute_result"
    }
   ],
   "source": [
    "#count()\n",
    "a.count('is')"
   ]
  },
  {
   "cell_type": "code",
   "execution_count": 26,
   "id": "24e0593e",
   "metadata": {},
   "outputs": [
    {
     "data": {
      "text/plain": [
       "'rahil is a good boy'"
      ]
     },
     "execution_count": 26,
     "metadata": {},
     "output_type": "execute_result"
    }
   ],
   "source": [
    "#casefold\n",
    "a.casefold()"
   ]
  },
  {
   "cell_type": "code",
   "execution_count": 34,
   "id": "1766d638",
   "metadata": {},
   "outputs": [
    {
     "data": {
      "text/plain": [
       "b'rahil is a good boy'"
      ]
     },
     "execution_count": 34,
     "metadata": {},
     "output_type": "execute_result"
    }
   ],
   "source": [
    "#encode\n",
    "a.encode()"
   ]
  },
  {
   "cell_type": "code",
   "execution_count": 37,
   "id": "23c4f2dd",
   "metadata": {},
   "outputs": [
    {
     "data": {
      "text/plain": [
       "False"
      ]
     },
     "execution_count": 37,
     "metadata": {},
     "output_type": "execute_result"
    }
   ],
   "source": [
    "#endswith\n",
    "a.endswith('is')"
   ]
  },
  {
   "cell_type": "code",
   "execution_count": 38,
   "id": "011e1bc4",
   "metadata": {},
   "outputs": [
    {
     "data": {
      "text/plain": [
       "True"
      ]
     },
     "execution_count": 38,
     "metadata": {},
     "output_type": "execute_result"
    }
   ],
   "source": [
    "#endswith\n",
    "a.endswith('boy')"
   ]
  },
  {
   "cell_type": "code",
   "execution_count": 47,
   "id": "8d2e0702",
   "metadata": {},
   "outputs": [
    {
     "data": {
      "text/plain": [
       "'rahil is a good boy'"
      ]
     },
     "execution_count": 47,
     "metadata": {},
     "output_type": "execute_result"
    }
   ],
   "source": [
    "#expandtabs\n",
    "a.expandtabs()"
   ]
  },
  {
   "cell_type": "code",
   "execution_count": 50,
   "id": "6bacd9a9",
   "metadata": {},
   "outputs": [
    {
     "data": {
      "text/plain": [
       "11"
      ]
     },
     "execution_count": 50,
     "metadata": {},
     "output_type": "execute_result"
    }
   ],
   "source": [
    "#find\n",
    "a.find('g')"
   ]
  },
  {
   "cell_type": "code",
   "execution_count": 51,
   "id": "077f030f",
   "metadata": {},
   "outputs": [
    {
     "data": {
      "text/plain": [
       "'rahil is a good boy'"
      ]
     },
     "execution_count": 51,
     "metadata": {},
     "output_type": "execute_result"
    }
   ],
   "source": [
    "#format\n",
    "a.format()"
   ]
  },
  {
   "cell_type": "code",
   "execution_count": 65,
   "id": "fd657a71",
   "metadata": {},
   "outputs": [
    {
     "data": {
      "text/plain": [
       "'rahil is a good boy'"
      ]
     },
     "execution_count": 65,
     "metadata": {},
     "output_type": "execute_result"
    }
   ],
   "source": [
    "#format_map\n",
    "a.format_map('1')"
   ]
  },
  {
   "cell_type": "code",
   "execution_count": 71,
   "id": "1f4e7985",
   "metadata": {},
   "outputs": [
    {
     "data": {
      "text/plain": [
       "16"
      ]
     },
     "execution_count": 71,
     "metadata": {},
     "output_type": "execute_result"
    }
   ],
   "source": [
    "#index\n",
    "a.index('b')"
   ]
  },
  {
   "cell_type": "code",
   "execution_count": 76,
   "id": "d30946f6",
   "metadata": {},
   "outputs": [
    {
     "data": {
      "text/plain": [
       "False"
      ]
     },
     "execution_count": 76,
     "metadata": {},
     "output_type": "execute_result"
    }
   ],
   "source": [
    "#isalnum\n",
    "a.isalnum()"
   ]
  },
  {
   "cell_type": "code",
   "execution_count": 74,
   "id": "edde48d3",
   "metadata": {},
   "outputs": [
    {
     "data": {
      "text/plain": [
       "False"
      ]
     },
     "execution_count": 74,
     "metadata": {},
     "output_type": "execute_result"
    }
   ],
   "source": [
    "#isalpha\n",
    "a.isalpha()"
   ]
  },
  {
   "cell_type": "code",
   "execution_count": 75,
   "id": "d1e00404",
   "metadata": {},
   "outputs": [
    {
     "data": {
      "text/plain": [
       "True"
      ]
     },
     "execution_count": 75,
     "metadata": {},
     "output_type": "execute_result"
    }
   ],
   "source": [
    "b=\"man\"\n",
    "b.isalpha()"
   ]
  },
  {
   "cell_type": "code",
   "execution_count": 77,
   "id": "1a89280e",
   "metadata": {},
   "outputs": [
    {
     "data": {
      "text/plain": [
       "True"
      ]
     },
     "execution_count": 77,
     "metadata": {},
     "output_type": "execute_result"
    }
   ],
   "source": [
    "#isascii\n",
    "a.isascii()"
   ]
  },
  {
   "cell_type": "code",
   "execution_count": 81,
   "id": "5820a47b",
   "metadata": {},
   "outputs": [
    {
     "data": {
      "text/plain": [
       "False"
      ]
     },
     "execution_count": 81,
     "metadata": {},
     "output_type": "execute_result"
    }
   ],
   "source": [
    "#isdecimal\n",
    "a.isdecimal()"
   ]
  },
  {
   "cell_type": "raw",
   "id": "c59da23d",
   "metadata": {},
   "source": []
  },
  {
   "cell_type": "code",
   "execution_count": 83,
   "id": "a1332eb9",
   "metadata": {},
   "outputs": [
    {
     "data": {
      "text/plain": [
       "False"
      ]
     },
     "execution_count": 83,
     "metadata": {},
     "output_type": "execute_result"
    }
   ],
   "source": [
    "#isidentifier\n",
    "a.isidentifier()"
   ]
  },
  {
   "cell_type": "code",
   "execution_count": 84,
   "id": "065ff66d",
   "metadata": {},
   "outputs": [
    {
     "data": {
      "text/plain": [
       "True"
      ]
     },
     "execution_count": 84,
     "metadata": {},
     "output_type": "execute_result"
    }
   ],
   "source": [
    "#islower\n",
    "a.islower()"
   ]
  },
  {
   "cell_type": "code",
   "execution_count": 86,
   "id": "7524b85a",
   "metadata": {},
   "outputs": [
    {
     "data": {
      "text/plain": [
       "False"
      ]
     },
     "execution_count": 86,
     "metadata": {},
     "output_type": "execute_result"
    }
   ],
   "source": [
    "#isnumeric\n",
    "a.isnumeric()"
   ]
  },
  {
   "cell_type": "code",
   "execution_count": 87,
   "id": "4b36306d",
   "metadata": {},
   "outputs": [
    {
     "data": {
      "text/plain": [
       "True"
      ]
     },
     "execution_count": 87,
     "metadata": {},
     "output_type": "execute_result"
    }
   ],
   "source": [
    "#isprintable\n",
    "a.isprintable()"
   ]
  },
  {
   "cell_type": "code",
   "execution_count": 91,
   "id": "164cc71b",
   "metadata": {},
   "outputs": [
    {
     "data": {
      "text/plain": [
       "False"
      ]
     },
     "execution_count": 91,
     "metadata": {},
     "output_type": "execute_result"
    }
   ],
   "source": [
    "#isspace\n",
    "a.isspace()"
   ]
  },
  {
   "cell_type": "code",
   "execution_count": 9,
   "id": "cda38fe0",
   "metadata": {},
   "outputs": [
    {
     "data": {
      "text/plain": [
       "False"
      ]
     },
     "execution_count": 9,
     "metadata": {},
     "output_type": "execute_result"
    }
   ],
   "source": [
    "#istitle\n",
    "a.istitle()"
   ]
  },
  {
   "cell_type": "code",
   "execution_count": 14,
   "id": "c102d3f2",
   "metadata": {},
   "outputs": [
    {
     "data": {
      "text/plain": [
       "'rahil is a good boy'"
      ]
     },
     "execution_count": 14,
     "metadata": {},
     "output_type": "execute_result"
    }
   ],
   "source": [
    "#center\n",
    "a.center(10)"
   ]
  },
  {
   "cell_type": "code",
   "execution_count": 19,
   "id": "f80ba3dc",
   "metadata": {},
   "outputs": [
    {
     "data": {
      "text/plain": [
       "False"
      ]
     },
     "execution_count": 19,
     "metadata": {},
     "output_type": "execute_result"
    }
   ],
   "source": [
    "#isupper\n",
    "a.isupper()"
   ]
  },
  {
   "cell_type": "code",
   "execution_count": 27,
   "id": "1242130a",
   "metadata": {},
   "outputs": [
    {
     "data": {
      "text/plain": [
       "'arahil is a good boynrahil is a good boywrahil is a good boyarahil is a good boyr'"
      ]
     },
     "execution_count": 27,
     "metadata": {},
     "output_type": "execute_result"
    }
   ],
   "source": [
    "#join\n",
    "a.join('anwar')"
   ]
  },
  {
   "cell_type": "code",
   "execution_count": 32,
   "id": "c96a469d",
   "metadata": {},
   "outputs": [
    {
     "data": {
      "text/plain": [
       "'rahil is a good boy '"
      ]
     },
     "execution_count": 32,
     "metadata": {},
     "output_type": "execute_result"
    }
   ],
   "source": [
    "#ljust\n",
    "a.ljust(20)"
   ]
  },
  {
   "cell_type": "code",
   "execution_count": 35,
   "id": "0f3e287e",
   "metadata": {},
   "outputs": [
    {
     "data": {
      "text/plain": [
       "'rahil is a good boy'"
      ]
     },
     "execution_count": 35,
     "metadata": {},
     "output_type": "execute_result"
    }
   ],
   "source": [
    "#lstrip\n",
    "a.lstrip()"
   ]
  },
  {
   "cell_type": "code",
   "execution_count": 67,
   "id": "5d6c14f7",
   "metadata": {},
   "outputs": [
    {
     "data": {
      "text/plain": [
       "('rahil is a g', 'o', 'od boy')"
      ]
     },
     "execution_count": 67,
     "metadata": {},
     "output_type": "execute_result"
    }
   ],
   "source": [
    "#partition\n",
    "a.partition('o')"
   ]
  },
  {
   "cell_type": "code",
   "execution_count": 105,
   "id": "171ed44d",
   "metadata": {},
   "outputs": [
    {
     "data": {
      "text/plain": [
       "4"
      ]
     },
     "execution_count": 105,
     "metadata": {},
     "output_type": "execute_result"
    }
   ],
   "source": [
    "#rfind\n",
    "a.rfind('l')"
   ]
  },
  {
   "cell_type": "code",
   "execution_count": 111,
   "id": "17f41365",
   "metadata": {},
   "outputs": [
    {
     "data": {
      "text/plain": [
       "2"
      ]
     },
     "execution_count": 111,
     "metadata": {},
     "output_type": "execute_result"
    }
   ],
   "source": [
    "#index\n",
    "a.rindex('h')"
   ]
  },
  {
   "cell_type": "code",
   "execution_count": 117,
   "id": "e99f4eb4",
   "metadata": {},
   "outputs": [
    {
     "data": {
      "text/plain": [
       "'rahil is a good boy'"
      ]
     },
     "execution_count": 117,
     "metadata": {},
     "output_type": "execute_result"
    }
   ],
   "source": [
    "#rjust\n",
    "a.rjust(10)"
   ]
  },
  {
   "cell_type": "code",
   "execution_count": 130,
   "id": "4fa29b10",
   "metadata": {},
   "outputs": [
    {
     "data": {
      "text/plain": [
       "['rahil is a good boy']"
      ]
     },
     "execution_count": 130,
     "metadata": {},
     "output_type": "execute_result"
    }
   ],
   "source": [
    "#splitlines\n",
    "a.splitlines()"
   ]
  },
  {
   "cell_type": "code",
   "execution_count": 141,
   "id": "a1466c7e",
   "metadata": {},
   "outputs": [],
   "source": [
    "m=\"rahil\\nsmart\\ninternz\" "
   ]
  },
  {
   "cell_type": "code",
   "execution_count": 142,
   "id": "354f79db",
   "metadata": {},
   "outputs": [
    {
     "data": {
      "text/plain": [
       "['rahil', 'smart', 'internz']"
      ]
     },
     "execution_count": 142,
     "metadata": {},
     "output_type": "execute_result"
    }
   ],
   "source": [
    "m.splitlines()"
   ]
  },
  {
   "cell_type": "code",
   "execution_count": 143,
   "id": "2bad64d1",
   "metadata": {},
   "outputs": [
    {
     "data": {
      "text/plain": [
       "['rahil', 'is', 'a', 'good', 'boy']"
      ]
     },
     "execution_count": 143,
     "metadata": {},
     "output_type": "execute_result"
    }
   ],
   "source": [
    "#rsplit\n",
    "a.rsplit()"
   ]
  },
  {
   "cell_type": "code",
   "execution_count": 144,
   "id": "93939baf",
   "metadata": {},
   "outputs": [
    {
     "data": {
      "text/plain": [
       "'RAHIL IS A GOOD BOY'"
      ]
     },
     "execution_count": 144,
     "metadata": {},
     "output_type": "execute_result"
    }
   ],
   "source": [
    "#swapcase\n",
    "a.swapcase()"
   ]
  },
  {
   "cell_type": "code",
   "execution_count": 227,
   "id": "bd415df6",
   "metadata": {},
   "outputs": [
    {
     "data": {
      "text/plain": [
       "'rahil is a good boy'"
      ]
     },
     "execution_count": 227,
     "metadata": {},
     "output_type": "execute_result"
    }
   ],
   "source": [
    "#translate\n",
    "a.translate('R')"
   ]
  },
  {
   "cell_type": "code",
   "execution_count": 182,
   "id": "1dcb67bd",
   "metadata": {},
   "outputs": [
    {
     "data": {
      "text/plain": [
       "'000000rahil is a good boy'"
      ]
     },
     "execution_count": 182,
     "metadata": {},
     "output_type": "execute_result"
    }
   ],
   "source": [
    "#zfill\n",
    "a.zfill(25)"
   ]
  },
  {
   "cell_type": "code",
   "execution_count": 185,
   "id": "293ceb4c",
   "metadata": {},
   "outputs": [
    {
     "data": {
      "text/plain": [
       "False"
      ]
     },
     "execution_count": 185,
     "metadata": {},
     "output_type": "execute_result"
    }
   ],
   "source": [
    "#startswith\n",
    "a.startswith('boy')"
   ]
  },
  {
   "cell_type": "code",
   "execution_count": 186,
   "id": "e9d65eaa",
   "metadata": {},
   "outputs": [
    {
     "data": {
      "text/plain": [
       "True"
      ]
     },
     "execution_count": 186,
     "metadata": {},
     "output_type": "execute_result"
    }
   ],
   "source": [
    "a.startswith('rahil')"
   ]
  },
  {
   "cell_type": "code",
   "execution_count": 221,
   "id": "52a13418",
   "metadata": {},
   "outputs": [
    {
     "data": {
      "text/plain": [
       "{122: 99}"
      ]
     },
     "execution_count": 221,
     "metadata": {},
     "output_type": "execute_result"
    }
   ],
   "source": [
    "#maketrans\n",
    "a.maketrans('z','c')"
   ]
  },
  {
   "cell_type": "code",
   "execution_count": 224,
   "id": "dd236bb6",
   "metadata": {},
   "outputs": [
    {
     "data": {
      "text/plain": [
       "'rahil is a good boy'"
      ]
     },
     "execution_count": 224,
     "metadata": {},
     "output_type": "execute_result"
    }
   ],
   "source": []
  },
  {
   "cell_type": "code",
   "execution_count": null,
   "id": "0b1167bc",
   "metadata": {},
   "outputs": [],
   "source": []
  }
 ],
 "metadata": {
  "kernelspec": {
   "display_name": "Python 3",
   "language": "python",
   "name": "python3"
  },
  "language_info": {
   "codemirror_mode": {
    "name": "ipython",
    "version": 3
   },
   "file_extension": ".py",
   "mimetype": "text/x-python",
   "name": "python",
   "nbconvert_exporter": "python",
   "pygments_lexer": "ipython3",
   "version": "3.8.8"
  }
 },
 "nbformat": 4,
 "nbformat_minor": 5
}
